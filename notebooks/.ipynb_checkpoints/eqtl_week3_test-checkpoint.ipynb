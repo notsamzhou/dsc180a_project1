{
 "cells": [
  {
   "cell_type": "code",
   "execution_count": 1,
   "metadata": {},
   "outputs": [
    {
     "name": "stderr",
     "output_type": "stream",
     "text": [
      "/opt/conda/lib/python3.9/site-packages/dask/dataframe/backends.py:187: FutureWarning: pandas.Int64Index is deprecated and will be removed from pandas in a future version. Use pandas.Index with the appropriate dtype instead.\n",
      "  _numeric_index_types = (pd.Int64Index, pd.Float64Index, pd.UInt64Index)\n",
      "/opt/conda/lib/python3.9/site-packages/dask/dataframe/backends.py:187: FutureWarning: pandas.Float64Index is deprecated and will be removed from pandas in a future version. Use pandas.Index with the appropriate dtype instead.\n",
      "  _numeric_index_types = (pd.Int64Index, pd.Float64Index, pd.UInt64Index)\n",
      "/opt/conda/lib/python3.9/site-packages/dask/dataframe/backends.py:187: FutureWarning: pandas.UInt64Index is deprecated and will be removed from pandas in a future version. Use pandas.Index with the appropriate dtype instead.\n",
      "  _numeric_index_types = (pd.Int64Index, pd.Float64Index, pd.UInt64Index)\n"
     ]
    }
   ],
   "source": [
    "import pandas as pd\n",
    "import io\n",
    "import os\n",
    "import gzip\n",
    "import numpy as np\n",
    "from sklearn.linear_model import LinearRegression\n",
    "from scipy.stats import linregress\n",
    "import swifter\n",
    "import warnings\n",
    "import time\n",
    "warnings.filterwarnings('ignore')"
   ]
  },
  {
   "cell_type": "code",
   "execution_count": 2,
   "metadata": {},
   "outputs": [],
   "source": [
    "def get_vcf_names(vcf_path):\n",
    "    with open(vcf_path, \"rt\") as ifile:\n",
    "        for line in ifile:\n",
    "            if line.startswith(\"#CHROM\"):\n",
    "                vcf_names = [x for x in line.split('\\t')]\n",
    "                break\n",
    "    ifile.close()\n",
    "    return vcf_names"
   ]
  },
  {
   "cell_type": "code",
   "execution_count": 3,
   "metadata": {},
   "outputs": [],
   "source": [
    "expressions = pd.read_csv('data/GD462.GeneQuantRPKM.50FN.samplename.resk10.txt.gz', sep='\\t')"
   ]
  },
  {
   "cell_type": "code",
   "execution_count": 4,
   "metadata": {},
   "outputs": [],
   "source": [
    "expressions_22 = expressions[expressions['Chr'] == '22']"
   ]
  },
  {
   "cell_type": "code",
   "execution_count": 5,
   "metadata": {},
   "outputs": [
    {
     "data": {
      "text/html": [
       "<div>\n",
       "<style scoped>\n",
       "    .dataframe tbody tr th:only-of-type {\n",
       "        vertical-align: middle;\n",
       "    }\n",
       "\n",
       "    .dataframe tbody tr th {\n",
       "        vertical-align: top;\n",
       "    }\n",
       "\n",
       "    .dataframe thead th {\n",
       "        text-align: right;\n",
       "    }\n",
       "</style>\n",
       "<table border=\"1\" class=\"dataframe\">\n",
       "  <thead>\n",
       "    <tr style=\"text-align: right;\">\n",
       "      <th></th>\n",
       "      <th>TargetID</th>\n",
       "      <th>Gene_Symbol</th>\n",
       "      <th>Chr</th>\n",
       "      <th>Coord</th>\n",
       "      <th>HG00096</th>\n",
       "      <th>HG00097</th>\n",
       "      <th>HG00099</th>\n",
       "      <th>HG00100</th>\n",
       "      <th>HG00101</th>\n",
       "      <th>HG00102</th>\n",
       "      <th>...</th>\n",
       "      <th>NA20810</th>\n",
       "      <th>NA20811</th>\n",
       "      <th>NA20812</th>\n",
       "      <th>NA20813</th>\n",
       "      <th>NA20814</th>\n",
       "      <th>NA20815</th>\n",
       "      <th>NA20816</th>\n",
       "      <th>NA20819</th>\n",
       "      <th>NA20826</th>\n",
       "      <th>NA20828</th>\n",
       "    </tr>\n",
       "  </thead>\n",
       "  <tbody>\n",
       "    <tr>\n",
       "      <th>22</th>\n",
       "      <td>ENSG00000249263.2</td>\n",
       "      <td>ENSG00000249263.2</td>\n",
       "      <td>22</td>\n",
       "      <td>17140518</td>\n",
       "      <td>0.340656</td>\n",
       "      <td>0.318942</td>\n",
       "      <td>-0.009145</td>\n",
       "      <td>0.231503</td>\n",
       "      <td>0.089713</td>\n",
       "      <td>0.482984</td>\n",
       "      <td>...</td>\n",
       "      <td>0.032117</td>\n",
       "      <td>0.213629</td>\n",
       "      <td>0.225474</td>\n",
       "      <td>0.134216</td>\n",
       "      <td>0.128749</td>\n",
       "      <td>0.060841</td>\n",
       "      <td>0.298061</td>\n",
       "      <td>-0.011292</td>\n",
       "      <td>0.058276</td>\n",
       "      <td>-0.013384</td>\n",
       "    </tr>\n",
       "    <tr>\n",
       "      <th>29</th>\n",
       "      <td>ENSG00000224688.1</td>\n",
       "      <td>ENSG00000224688.1</td>\n",
       "      <td>22</td>\n",
       "      <td>21496660</td>\n",
       "      <td>4.194827</td>\n",
       "      <td>3.369440</td>\n",
       "      <td>2.335470</td>\n",
       "      <td>4.477910</td>\n",
       "      <td>3.641758</td>\n",
       "      <td>3.296741</td>\n",
       "      <td>...</td>\n",
       "      <td>4.669164</td>\n",
       "      <td>3.918440</td>\n",
       "      <td>4.977372</td>\n",
       "      <td>3.253683</td>\n",
       "      <td>3.322997</td>\n",
       "      <td>6.613617</td>\n",
       "      <td>3.438039</td>\n",
       "      <td>3.768840</td>\n",
       "      <td>3.248447</td>\n",
       "      <td>4.300825</td>\n",
       "    </tr>\n",
       "    <tr>\n",
       "      <th>45</th>\n",
       "      <td>ENSG00000075240.12</td>\n",
       "      <td>ENSG00000075240.12</td>\n",
       "      <td>22</td>\n",
       "      <td>46971909</td>\n",
       "      <td>3.531803</td>\n",
       "      <td>3.635541</td>\n",
       "      <td>1.251434</td>\n",
       "      <td>3.007745</td>\n",
       "      <td>3.574070</td>\n",
       "      <td>4.569758</td>\n",
       "      <td>...</td>\n",
       "      <td>4.057426</td>\n",
       "      <td>3.736969</td>\n",
       "      <td>3.156168</td>\n",
       "      <td>6.785470</td>\n",
       "      <td>5.646243</td>\n",
       "      <td>2.418243</td>\n",
       "      <td>4.678466</td>\n",
       "      <td>4.626435</td>\n",
       "      <td>5.101994</td>\n",
       "      <td>4.100622</td>\n",
       "    </tr>\n",
       "    <tr>\n",
       "      <th>81</th>\n",
       "      <td>ENSG00000099937.6</td>\n",
       "      <td>ENSG00000099937.6</td>\n",
       "      <td>22</td>\n",
       "      <td>21128167</td>\n",
       "      <td>0.519054</td>\n",
       "      <td>0.399216</td>\n",
       "      <td>0.078965</td>\n",
       "      <td>0.145628</td>\n",
       "      <td>0.446993</td>\n",
       "      <td>0.217271</td>\n",
       "      <td>...</td>\n",
       "      <td>0.621082</td>\n",
       "      <td>0.414906</td>\n",
       "      <td>1.047612</td>\n",
       "      <td>0.353794</td>\n",
       "      <td>0.253339</td>\n",
       "      <td>0.492650</td>\n",
       "      <td>0.449070</td>\n",
       "      <td>0.081118</td>\n",
       "      <td>0.164197</td>\n",
       "      <td>0.287428</td>\n",
       "    </tr>\n",
       "    <tr>\n",
       "      <th>85</th>\n",
       "      <td>ENSG00000099998.12</td>\n",
       "      <td>ENSG00000099998.12</td>\n",
       "      <td>22</td>\n",
       "      <td>24641110</td>\n",
       "      <td>0.073630</td>\n",
       "      <td>0.041109</td>\n",
       "      <td>0.017493</td>\n",
       "      <td>-0.020552</td>\n",
       "      <td>0.000059</td>\n",
       "      <td>-0.007782</td>\n",
       "      <td>...</td>\n",
       "      <td>0.045730</td>\n",
       "      <td>0.003584</td>\n",
       "      <td>0.027056</td>\n",
       "      <td>0.007583</td>\n",
       "      <td>0.063843</td>\n",
       "      <td>0.059052</td>\n",
       "      <td>-0.008820</td>\n",
       "      <td>0.017421</td>\n",
       "      <td>0.010471</td>\n",
       "      <td>0.105646</td>\n",
       "    </tr>\n",
       "  </tbody>\n",
       "</table>\n",
       "<p>5 rows × 466 columns</p>\n",
       "</div>"
      ],
      "text/plain": [
       "              TargetID         Gene_Symbol Chr     Coord   HG00096   HG00097  \\\n",
       "22   ENSG00000249263.2   ENSG00000249263.2  22  17140518  0.340656  0.318942   \n",
       "29   ENSG00000224688.1   ENSG00000224688.1  22  21496660  4.194827  3.369440   \n",
       "45  ENSG00000075240.12  ENSG00000075240.12  22  46971909  3.531803  3.635541   \n",
       "81   ENSG00000099937.6   ENSG00000099937.6  22  21128167  0.519054  0.399216   \n",
       "85  ENSG00000099998.12  ENSG00000099998.12  22  24641110  0.073630  0.041109   \n",
       "\n",
       "     HG00099   HG00100   HG00101   HG00102  ...   NA20810   NA20811   NA20812  \\\n",
       "22 -0.009145  0.231503  0.089713  0.482984  ...  0.032117  0.213629  0.225474   \n",
       "29  2.335470  4.477910  3.641758  3.296741  ...  4.669164  3.918440  4.977372   \n",
       "45  1.251434  3.007745  3.574070  4.569758  ...  4.057426  3.736969  3.156168   \n",
       "81  0.078965  0.145628  0.446993  0.217271  ...  0.621082  0.414906  1.047612   \n",
       "85  0.017493 -0.020552  0.000059 -0.007782  ...  0.045730  0.003584  0.027056   \n",
       "\n",
       "     NA20813   NA20814   NA20815   NA20816   NA20819   NA20826   NA20828  \n",
       "22  0.134216  0.128749  0.060841  0.298061 -0.011292  0.058276 -0.013384  \n",
       "29  3.253683  3.322997  6.613617  3.438039  3.768840  3.248447  4.300825  \n",
       "45  6.785470  5.646243  2.418243  4.678466  4.626435  5.101994  4.100622  \n",
       "81  0.353794  0.253339  0.492650  0.449070  0.081118  0.164197  0.287428  \n",
       "85  0.007583  0.063843  0.059052 -0.008820  0.017421  0.010471  0.105646  \n",
       "\n",
       "[5 rows x 466 columns]"
      ]
     },
     "execution_count": 5,
     "metadata": {},
     "output_type": "execute_result"
    }
   ],
   "source": [
    "expressions_22.head()"
   ]
  },
  {
   "cell_type": "code",
   "execution_count": 6,
   "metadata": {},
   "outputs": [],
   "source": [
    "pops = pd.read_csv('data/ALL_1000G_phase1integrated_v3.sample', sep=' ')"
   ]
  },
  {
   "cell_type": "code",
   "execution_count": 7,
   "metadata": {},
   "outputs": [
    {
     "data": {
      "text/html": [
       "<div>\n",
       "<style scoped>\n",
       "    .dataframe tbody tr th:only-of-type {\n",
       "        vertical-align: middle;\n",
       "    }\n",
       "\n",
       "    .dataframe tbody tr th {\n",
       "        vertical-align: top;\n",
       "    }\n",
       "\n",
       "    .dataframe thead th {\n",
       "        text-align: right;\n",
       "    }\n",
       "</style>\n",
       "<table border=\"1\" class=\"dataframe\">\n",
       "  <thead>\n",
       "    <tr style=\"text-align: right;\">\n",
       "      <th></th>\n",
       "      <th>sample</th>\n",
       "      <th>population</th>\n",
       "      <th>group</th>\n",
       "      <th>sex</th>\n",
       "    </tr>\n",
       "  </thead>\n",
       "  <tbody>\n",
       "    <tr>\n",
       "      <th>0</th>\n",
       "      <td>HG00096</td>\n",
       "      <td>GBR</td>\n",
       "      <td>EUR</td>\n",
       "      <td>1</td>\n",
       "    </tr>\n",
       "    <tr>\n",
       "      <th>1</th>\n",
       "      <td>HG00097</td>\n",
       "      <td>GBR</td>\n",
       "      <td>EUR</td>\n",
       "      <td>2</td>\n",
       "    </tr>\n",
       "    <tr>\n",
       "      <th>2</th>\n",
       "      <td>HG00099</td>\n",
       "      <td>GBR</td>\n",
       "      <td>EUR</td>\n",
       "      <td>2</td>\n",
       "    </tr>\n",
       "    <tr>\n",
       "      <th>3</th>\n",
       "      <td>HG00100</td>\n",
       "      <td>GBR</td>\n",
       "      <td>EUR</td>\n",
       "      <td>2</td>\n",
       "    </tr>\n",
       "    <tr>\n",
       "      <th>4</th>\n",
       "      <td>HG00101</td>\n",
       "      <td>GBR</td>\n",
       "      <td>EUR</td>\n",
       "      <td>1</td>\n",
       "    </tr>\n",
       "  </tbody>\n",
       "</table>\n",
       "</div>"
      ],
      "text/plain": [
       "    sample population group  sex\n",
       "0  HG00096        GBR   EUR    1\n",
       "1  HG00097        GBR   EUR    2\n",
       "2  HG00099        GBR   EUR    2\n",
       "3  HG00100        GBR   EUR    2\n",
       "4  HG00101        GBR   EUR    1"
      ]
     },
     "execution_count": 7,
     "metadata": {},
     "output_type": "execute_result"
    }
   ],
   "source": [
    "pops.head()"
   ]
  },
  {
   "cell_type": "markdown",
   "metadata": {},
   "source": [
    "## Whole Chr22"
   ]
  },
  {
   "cell_type": "code",
   "execution_count": 11,
   "metadata": {},
   "outputs": [],
   "source": [
    "def get_cis_snps(x, cis_thresh, snps):\n",
    "    return snps['POS'][(abs(snps['POS'] - x['Coord']) < cis_thresh)].index"
   ]
  },
  {
   "cell_type": "code",
   "execution_count": 12,
   "metadata": {},
   "outputs": [],
   "source": [
    "def regress(x, snps, total_count, samples):\n",
    "    exp = x.iloc[4:-1]\n",
    "    \n",
    "    valid_keys_exp = exp.index.intersection(samples)\n",
    "    exp = exp.loc[valid_keys_exp]\n",
    "    \n",
    "    sig_alleles = []\n",
    "    \n",
    "    for snp in x['local']:\n",
    "\n",
    "        allele = snps.loc[snp]\n",
    "        \n",
    "        valid_keys_allele = allele.index.intersection(samples)\n",
    "        allele = allele.loc[valid_keys_allele]\n",
    "\n",
    "        merged = pd.merge(exp, allele, left_index=True, right_index=True)\n",
    "        merged.columns = ['expression', 'allele']\n",
    "\n",
    "        slope, intercept, r_value, p_value, std_err = linregress(merged['allele'].values.astype(float), merged['expression'].values.astype(float))\n",
    "        \n",
    "        if p_value <= 0.05 / total_count:\n",
    "            sig_alleles.append(np.array([snp, slope, std_err, p_value]))\n",
    "        \n",
    "    return sig_alleles\n",
    "    "
   ]
  },
  {
   "cell_type": "code",
   "execution_count": 13,
   "metadata": {},
   "outputs": [
    {
     "data": {
      "application/vnd.jupyter.widget-view+json": {
       "model_id": "c8a61a8a3029491880c118c4f03f4388",
       "version_major": 2,
       "version_minor": 0
      },
      "text/plain": [
       "Pandas Apply:   0%|          | 0/633 [00:00<?, ?it/s]"
      ]
     },
     "metadata": {},
     "output_type": "display_data"
    },
    {
     "data": {
      "application/vnd.jupyter.widget-view+json": {
       "model_id": "d1bb81835d3f4c8490f6d11fd7447d1d",
       "version_major": 2,
       "version_minor": 0
      },
      "text/plain": [
       "Pandas Apply:   0%|          | 0/633 [00:00<?, ?it/s]"
      ]
     },
     "metadata": {},
     "output_type": "display_data"
    },
    {
     "data": {
      "application/vnd.jupyter.widget-view+json": {
       "model_id": "23799d557f7d4f578f03b1431dfc9310",
       "version_major": 2,
       "version_minor": 0
      },
      "text/plain": [
       "Pandas Apply:   0%|          | 0/633 [00:00<?, ?it/s]"
      ]
     },
     "metadata": {},
     "output_type": "display_data"
    }
   ],
   "source": [
    "names = get_vcf_names('data/chr22_common.vcf')\n",
    "vcf = pd.read_csv('data/chr22_common.vcf', chunksize=50_000, comment='#',low_memory=False, delim_whitespace=True, header=None, names=names)\n",
    "\n",
    "significants = 0\n",
    "p_values = []\n",
    "total_count = 0\n",
    "\n",
    "\n",
    "for i, chunk in enumerate(vcf):\n",
    "\n",
    "    common = chunk\n",
    "    \n",
    "    expressions_22.loc[:, 'local'] = expressions_22.swifter.apply(get_cis_snps, cis_thresh=500_000, snps=common, axis=1)\n",
    "    alleles = common.iloc[:, 9:].applymap(lambda x: sum(int(i) for i in str(x).split('/')))\n",
    "    \n",
    "    total_count += expressions_22['local'].apply(len).sum()"
   ]
  },
  {
   "cell_type": "code",
   "execution_count": 14,
   "metadata": {},
   "outputs": [
    {
     "data": {
      "text/plain": [
       "1722438"
      ]
     },
     "execution_count": 14,
     "metadata": {},
     "output_type": "execute_result"
    }
   ],
   "source": [
    "total_count"
   ]
  },
  {
   "cell_type": "code",
   "execution_count": null,
   "metadata": {},
   "outputs": [
    {
     "name": "stdout",
     "output_type": "stream",
     "text": [
      "0\n"
     ]
    },
    {
     "data": {
      "application/vnd.jupyter.widget-view+json": {
       "model_id": "fc752524ca9d4018891bf1ed1a902d45",
       "version_major": 2,
       "version_minor": 0
      },
      "text/plain": [
       "Pandas Apply:   0%|          | 0/633 [00:00<?, ?it/s]"
      ]
     },
     "metadata": {},
     "output_type": "display_data"
    },
    {
     "name": "stdout",
     "output_type": "stream",
     "text": [
      "1\n"
     ]
    },
    {
     "data": {
      "application/vnd.jupyter.widget-view+json": {
       "model_id": "f57613c78cbf4dc3b677e307700688b0",
       "version_major": 2,
       "version_minor": 0
      },
      "text/plain": [
       "Pandas Apply:   0%|          | 0/633 [00:00<?, ?it/s]"
      ]
     },
     "metadata": {},
     "output_type": "display_data"
    },
    {
     "name": "stdout",
     "output_type": "stream",
     "text": [
      "2\n"
     ]
    },
    {
     "data": {
      "application/vnd.jupyter.widget-view+json": {
       "model_id": "70956b4d9d4d4d3cabb511dcecfcb6ca",
       "version_major": 2,
       "version_minor": 0
      },
      "text/plain": [
       "Pandas Apply:   0%|          | 0/633 [00:00<?, ?it/s]"
      ]
     },
     "metadata": {},
     "output_type": "display_data"
    }
   ],
   "source": [
    "start = time.time()\n",
    "\n",
    "target_pops = ['YRI']\n",
    "samples = pops['sample'][pops['population'].isin(target_pops)]\n",
    "\n",
    "names = get_vcf_names('data/chr22_common.vcf')\n",
    "vcf = pd.read_csv('data/chr22_common.vcf', chunksize=50_000, comment='#',low_memory=False, delim_whitespace=True, header=None, names=names)\n",
    "\n",
    "significants = pd.DataFrame(columns=['gene', 'snp', 'pos', 'slope', 'SE', 'pvalue'])\n",
    "\n",
    "for i, chunk in enumerate(vcf):\n",
    "    print(i)\n",
    "    \n",
    "    expressions_22.loc[:, 'local'] = expressions_22.swifter.apply(get_cis_snps, cis_thresh=500_000, snps=chunk, axis=1)\n",
    "    alleles = chunk.iloc[:, 9:].applymap(lambda x: sum(int(i) for i in str(x).split('/')))\n",
    "    alleles.columns = alleles.columns.str.split('_').str[0].str.strip()\n",
    "\n",
    "    expressions_22.loc[:, 'info'] = expressions_22.apply(regress, snps=alleles, total_count=total_count, samples=samples, axis=1)\n",
    "    \n",
    "    for idx, row in expressions_22.iterrows():\n",
    "    \n",
    "        for sig in row['info']:\n",
    "            record = pd.DataFrame.from_dict({\n",
    "                'gene': [row['TargetID']],\n",
    "                'snp': [chunk.loc[int(sig[0])]['ID']],\n",
    "                'pos': [chunk.loc[int(sig[0])]['POS']],\n",
    "                'slope': [sig[1]],\n",
    "                'SE': [sig[2]],\n",
    "                'pvalue': [sig[3]]\n",
    "            })\n",
    "            \n",
    "            significants = pd.concat([significants, record], ignore_index=True)\n",
    "    \n",
    "end = time.time()"
   ]
  },
  {
   "cell_type": "code",
   "execution_count": null,
   "metadata": {},
   "outputs": [],
   "source": [
    "print(end - start)"
   ]
  },
  {
   "cell_type": "code",
   "execution_count": null,
   "metadata": {},
   "outputs": [],
   "source": [
    "significants.to_csv('chr22_YRI.csv', index=False)"
   ]
  },
  {
   "cell_type": "code",
   "execution_count": null,
   "metadata": {},
   "outputs": [],
   "source": []
  },
  {
   "cell_type": "code",
   "execution_count": null,
   "metadata": {},
   "outputs": [],
   "source": []
  },
  {
   "cell_type": "code",
   "execution_count": null,
   "metadata": {},
   "outputs": [],
   "source": []
  },
  {
   "cell_type": "code",
   "execution_count": null,
   "metadata": {},
   "outputs": [],
   "source": [
    "sa"
   ]
  },
  {
   "cell_type": "code",
   "execution_count": null,
   "metadata": {},
   "outputs": [],
   "source": [
    "significants"
   ]
  },
  {
   "cell_type": "code",
   "execution_count": null,
   "metadata": {},
   "outputs": [],
   "source": [
    "significants[['snp', 'pvalue']].to_csv('week7.tsv', index=False, sep='\\t')"
   ]
  },
  {
   "cell_type": "code",
   "execution_count": null,
   "metadata": {},
   "outputs": [],
   "source": [
    "significants"
   ]
  },
  {
   "cell_type": "code",
   "execution_count": null,
   "metadata": {},
   "outputs": [],
   "source": [
    "total_count"
   ]
  },
  {
   "cell_type": "code",
   "execution_count": null,
   "metadata": {},
   "outputs": [],
   "source": [
    "sig = pd.read_csv('sign.csv')"
   ]
  },
  {
   "cell_type": "code",
   "execution_count": null,
   "metadata": {},
   "outputs": [],
   "source": [
    "sig[sig['gene'] == 'ENSG00000184674.7'][['snp', 'pvalue']].to_csv('test.txt', index=False, sep='\\t')"
   ]
  },
  {
   "cell_type": "code",
   "execution_count": null,
   "metadata": {},
   "outputs": [],
   "source": [
    "pd.read_csv('week7.tsv', sep='\\t')"
   ]
  },
  {
   "cell_type": "code",
   "execution_count": null,
   "metadata": {},
   "outputs": [],
   "source": []
  }
 ],
 "metadata": {
  "kernelspec": {
   "display_name": "Python 3 (ipykernel)",
   "language": "python",
   "name": "python3"
  },
  "language_info": {
   "codemirror_mode": {
    "name": "ipython",
    "version": 3
   },
   "file_extension": ".py",
   "mimetype": "text/x-python",
   "name": "python",
   "nbconvert_exporter": "python",
   "pygments_lexer": "ipython3",
   "version": "3.9.5"
  },
  "vscode": {
   "interpreter": {
    "hash": "e1cd6ee38d0e84d283d280858f6106ddfda600128534f921ac3fea5326554c83"
   }
  }
 },
 "nbformat": 4,
 "nbformat_minor": 2
}
